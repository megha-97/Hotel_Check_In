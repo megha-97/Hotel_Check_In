{
 "cells": [
  {
   "cell_type": "markdown",
   "id": "da04ee36",
   "metadata": {},
   "source": [
    "# Customer Check-In Prediction"
   ]
  },
  {
   "cell_type": "markdown",
   "id": "43d8febc",
   "metadata": {},
   "source": [
    "<u>Problem Statement</u> : To predict the customer who is going to check-in into the hotel using the history of customer booking in a hotel."
   ]
  },
  {
   "cell_type": "code",
   "execution_count": 2,
   "id": "f8835698",
   "metadata": {},
   "outputs": [],
   "source": [
    "# importing libraries\n",
    "import warnings\n",
    "warnings.filterwarnings('ignore')\n",
    "\n",
    "import numpy as np\n",
    "import pandas as pd\n",
    "import time\n",
    "import matplotlib.pyplot as plt\n",
    "import seaborn as sns\n"
   ]
  },
  {
   "cell_type": "code",
   "execution_count": 3,
   "id": "eb257006",
   "metadata": {},
   "outputs": [],
   "source": [
    "# importing dataset\n",
    "df = pd.read_csv('train_data_evaluation_part_2.csv')"
   ]
  },
  {
   "cell_type": "code",
   "execution_count": 4,
   "id": "7a3c4332",
   "metadata": {},
   "outputs": [
    {
     "data": {
      "text/html": [
       "<div>\n",
       "<style scoped>\n",
       "    .dataframe tbody tr th:only-of-type {\n",
       "        vertical-align: middle;\n",
       "    }\n",
       "\n",
       "    .dataframe tbody tr th {\n",
       "        vertical-align: top;\n",
       "    }\n",
       "\n",
       "    .dataframe thead th {\n",
       "        text-align: right;\n",
       "    }\n",
       "</style>\n",
       "<table border=\"1\" class=\"dataframe\">\n",
       "  <thead>\n",
       "    <tr style=\"text-align: right;\">\n",
       "      <th></th>\n",
       "      <th>Unnamed: 0</th>\n",
       "      <th>ID</th>\n",
       "      <th>Nationality</th>\n",
       "      <th>Age</th>\n",
       "      <th>DaysSinceCreation</th>\n",
       "      <th>AverageLeadTime</th>\n",
       "      <th>LodgingRevenue</th>\n",
       "      <th>OtherRevenue</th>\n",
       "      <th>BookingsCanceled</th>\n",
       "      <th>BookingsNoShowed</th>\n",
       "      <th>...</th>\n",
       "      <th>SRMediumFloor</th>\n",
       "      <th>SRBathtub</th>\n",
       "      <th>SRShower</th>\n",
       "      <th>SRCrib</th>\n",
       "      <th>SRKingSizeBed</th>\n",
       "      <th>SRTwinBed</th>\n",
       "      <th>SRNearElevator</th>\n",
       "      <th>SRAwayFromElevator</th>\n",
       "      <th>SRNoAlcoholInMiniBar</th>\n",
       "      <th>SRQuietRoom</th>\n",
       "    </tr>\n",
       "  </thead>\n",
       "  <tbody>\n",
       "    <tr>\n",
       "      <th>0</th>\n",
       "      <td>0</td>\n",
       "      <td>1</td>\n",
       "      <td>PRT</td>\n",
       "      <td>51.0</td>\n",
       "      <td>150</td>\n",
       "      <td>45</td>\n",
       "      <td>371.0</td>\n",
       "      <td>105.3</td>\n",
       "      <td>1</td>\n",
       "      <td>0</td>\n",
       "      <td>...</td>\n",
       "      <td>0</td>\n",
       "      <td>0</td>\n",
       "      <td>0</td>\n",
       "      <td>0</td>\n",
       "      <td>0</td>\n",
       "      <td>0</td>\n",
       "      <td>0</td>\n",
       "      <td>0</td>\n",
       "      <td>0</td>\n",
       "      <td>0</td>\n",
       "    </tr>\n",
       "    <tr>\n",
       "      <th>1</th>\n",
       "      <td>1</td>\n",
       "      <td>2</td>\n",
       "      <td>PRT</td>\n",
       "      <td>NaN</td>\n",
       "      <td>1095</td>\n",
       "      <td>61</td>\n",
       "      <td>280.0</td>\n",
       "      <td>53.0</td>\n",
       "      <td>0</td>\n",
       "      <td>0</td>\n",
       "      <td>...</td>\n",
       "      <td>0</td>\n",
       "      <td>0</td>\n",
       "      <td>0</td>\n",
       "      <td>0</td>\n",
       "      <td>0</td>\n",
       "      <td>0</td>\n",
       "      <td>0</td>\n",
       "      <td>0</td>\n",
       "      <td>0</td>\n",
       "      <td>0</td>\n",
       "    </tr>\n",
       "    <tr>\n",
       "      <th>2</th>\n",
       "      <td>2</td>\n",
       "      <td>3</td>\n",
       "      <td>DEU</td>\n",
       "      <td>31.0</td>\n",
       "      <td>1095</td>\n",
       "      <td>0</td>\n",
       "      <td>0.0</td>\n",
       "      <td>0.0</td>\n",
       "      <td>0</td>\n",
       "      <td>0</td>\n",
       "      <td>...</td>\n",
       "      <td>0</td>\n",
       "      <td>0</td>\n",
       "      <td>0</td>\n",
       "      <td>0</td>\n",
       "      <td>0</td>\n",
       "      <td>0</td>\n",
       "      <td>0</td>\n",
       "      <td>0</td>\n",
       "      <td>0</td>\n",
       "      <td>0</td>\n",
       "    </tr>\n",
       "    <tr>\n",
       "      <th>3</th>\n",
       "      <td>3</td>\n",
       "      <td>4</td>\n",
       "      <td>FRA</td>\n",
       "      <td>60.0</td>\n",
       "      <td>1095</td>\n",
       "      <td>93</td>\n",
       "      <td>240.0</td>\n",
       "      <td>60.0</td>\n",
       "      <td>0</td>\n",
       "      <td>0</td>\n",
       "      <td>...</td>\n",
       "      <td>0</td>\n",
       "      <td>0</td>\n",
       "      <td>0</td>\n",
       "      <td>0</td>\n",
       "      <td>0</td>\n",
       "      <td>0</td>\n",
       "      <td>0</td>\n",
       "      <td>0</td>\n",
       "      <td>0</td>\n",
       "      <td>0</td>\n",
       "    </tr>\n",
       "    <tr>\n",
       "      <th>4</th>\n",
       "      <td>4</td>\n",
       "      <td>5</td>\n",
       "      <td>FRA</td>\n",
       "      <td>51.0</td>\n",
       "      <td>1095</td>\n",
       "      <td>0</td>\n",
       "      <td>0.0</td>\n",
       "      <td>0.0</td>\n",
       "      <td>0</td>\n",
       "      <td>0</td>\n",
       "      <td>...</td>\n",
       "      <td>0</td>\n",
       "      <td>0</td>\n",
       "      <td>0</td>\n",
       "      <td>0</td>\n",
       "      <td>0</td>\n",
       "      <td>0</td>\n",
       "      <td>0</td>\n",
       "      <td>0</td>\n",
       "      <td>0</td>\n",
       "      <td>0</td>\n",
       "    </tr>\n",
       "  </tbody>\n",
       "</table>\n",
       "<p>5 rows × 30 columns</p>\n",
       "</div>"
      ],
      "text/plain": [
       "   Unnamed: 0  ID Nationality   Age  DaysSinceCreation  AverageLeadTime  \\\n",
       "0           0   1         PRT  51.0                150               45   \n",
       "1           1   2         PRT   NaN               1095               61   \n",
       "2           2   3         DEU  31.0               1095                0   \n",
       "3           3   4         FRA  60.0               1095               93   \n",
       "4           4   5         FRA  51.0               1095                0   \n",
       "\n",
       "   LodgingRevenue  OtherRevenue  BookingsCanceled  BookingsNoShowed  ...  \\\n",
       "0           371.0         105.3                 1                 0  ...   \n",
       "1           280.0          53.0                 0                 0  ...   \n",
       "2             0.0           0.0                 0                 0  ...   \n",
       "3           240.0          60.0                 0                 0  ...   \n",
       "4             0.0           0.0                 0                 0  ...   \n",
       "\n",
       "   SRMediumFloor  SRBathtub  SRShower  SRCrib  SRKingSizeBed SRTwinBed  \\\n",
       "0              0          0         0       0              0         0   \n",
       "1              0          0         0       0              0         0   \n",
       "2              0          0         0       0              0         0   \n",
       "3              0          0         0       0              0         0   \n",
       "4              0          0         0       0              0         0   \n",
       "\n",
       "  SRNearElevator  SRAwayFromElevator  SRNoAlcoholInMiniBar  SRQuietRoom  \n",
       "0              0                   0                     0            0  \n",
       "1              0                   0                     0            0  \n",
       "2              0                   0                     0            0  \n",
       "3              0                   0                     0            0  \n",
       "4              0                   0                     0            0  \n",
       "\n",
       "[5 rows x 30 columns]"
      ]
     },
     "execution_count": 4,
     "metadata": {},
     "output_type": "execute_result"
    }
   ],
   "source": [
    "df.head()"
   ]
  },
  {
   "cell_type": "code",
   "execution_count": 5,
   "id": "21cf3e08",
   "metadata": {},
   "outputs": [],
   "source": [
    "#Removing the unnamed columns as it is not necesary.\n",
    "data = df.drop('Unnamed: 0',axis=1)"
   ]
  },
  {
   "cell_type": "code",
   "execution_count": 6,
   "id": "8c4f7dcd",
   "metadata": {},
   "outputs": [],
   "source": [
    "#Removing the unnamed columns as it is not necesary.\n",
    "data = data.drop('ID',axis=1)"
   ]
  },
  {
   "cell_type": "code",
   "execution_count": 7,
   "id": "5d70ccf7",
   "metadata": {},
   "outputs": [
    {
     "data": {
      "text/plain": [
       "(82580, 28)"
      ]
     },
     "execution_count": 7,
     "metadata": {},
     "output_type": "execute_result"
    }
   ],
   "source": [
    "data.shape"
   ]
  },
  {
   "cell_type": "code",
   "execution_count": 8,
   "id": "8dfb232a",
   "metadata": {},
   "outputs": [
    {
     "name": "stdout",
     "output_type": "stream",
     "text": [
      "<class 'pandas.core.frame.DataFrame'>\n",
      "RangeIndex: 82580 entries, 0 to 82579\n",
      "Data columns (total 28 columns):\n",
      " #   Column                Non-Null Count  Dtype  \n",
      "---  ------                --------------  -----  \n",
      " 0   Nationality           82580 non-null  object \n",
      " 1   Age                   78834 non-null  float64\n",
      " 2   DaysSinceCreation     82580 non-null  int64  \n",
      " 3   AverageLeadTime       82580 non-null  int64  \n",
      " 4   LodgingRevenue        82580 non-null  float64\n",
      " 5   OtherRevenue          82580 non-null  float64\n",
      " 6   BookingsCanceled      82580 non-null  int64  \n",
      " 7   BookingsNoShowed      82580 non-null  int64  \n",
      " 8   BookingsCheckedIn     82580 non-null  int64  \n",
      " 9   PersonsNights         82580 non-null  int64  \n",
      " 10  RoomNights            82580 non-null  int64  \n",
      " 11  DaysSinceLastStay     82580 non-null  int64  \n",
      " 12  DaysSinceFirstStay    82580 non-null  int64  \n",
      " 13  DistributionChannel   82580 non-null  object \n",
      " 14  MarketSegment         82580 non-null  object \n",
      " 15  SRHighFloor           82580 non-null  int64  \n",
      " 16  SRLowFloor            82580 non-null  int64  \n",
      " 17  SRAccessibleRoom      82580 non-null  int64  \n",
      " 18  SRMediumFloor         82580 non-null  int64  \n",
      " 19  SRBathtub             82580 non-null  int64  \n",
      " 20  SRShower              82580 non-null  int64  \n",
      " 21  SRCrib                82580 non-null  int64  \n",
      " 22  SRKingSizeBed         82580 non-null  int64  \n",
      " 23  SRTwinBed             82580 non-null  int64  \n",
      " 24  SRNearElevator        82580 non-null  int64  \n",
      " 25  SRAwayFromElevator    82580 non-null  int64  \n",
      " 26  SRNoAlcoholInMiniBar  82580 non-null  int64  \n",
      " 27  SRQuietRoom           82580 non-null  int64  \n",
      "dtypes: float64(3), int64(22), object(3)\n",
      "memory usage: 17.6+ MB\n"
     ]
    }
   ],
   "source": [
    "# Basic data check\n",
    "data.info()"
   ]
  },
  {
   "cell_type": "markdown",
   "id": "dde4a12a",
   "metadata": {},
   "source": [
    "Age Column is having some missing values"
   ]
  },
  {
   "cell_type": "code",
   "execution_count": 9,
   "id": "193bff9a",
   "metadata": {},
   "outputs": [],
   "source": [
    "# Handling missing data\n",
    "data = data.dropna()"
   ]
  },
  {
   "cell_type": "code",
   "execution_count": 10,
   "id": "1fb1e283",
   "metadata": {},
   "outputs": [
    {
     "name": "stdout",
     "output_type": "stream",
     "text": [
      "<class 'pandas.core.frame.DataFrame'>\n",
      "Int64Index: 78834 entries, 0 to 82579\n",
      "Data columns (total 28 columns):\n",
      " #   Column                Non-Null Count  Dtype  \n",
      "---  ------                --------------  -----  \n",
      " 0   Nationality           78834 non-null  object \n",
      " 1   Age                   78834 non-null  float64\n",
      " 2   DaysSinceCreation     78834 non-null  int64  \n",
      " 3   AverageLeadTime       78834 non-null  int64  \n",
      " 4   LodgingRevenue        78834 non-null  float64\n",
      " 5   OtherRevenue          78834 non-null  float64\n",
      " 6   BookingsCanceled      78834 non-null  int64  \n",
      " 7   BookingsNoShowed      78834 non-null  int64  \n",
      " 8   BookingsCheckedIn     78834 non-null  int64  \n",
      " 9   PersonsNights         78834 non-null  int64  \n",
      " 10  RoomNights            78834 non-null  int64  \n",
      " 11  DaysSinceLastStay     78834 non-null  int64  \n",
      " 12  DaysSinceFirstStay    78834 non-null  int64  \n",
      " 13  DistributionChannel   78834 non-null  object \n",
      " 14  MarketSegment         78834 non-null  object \n",
      " 15  SRHighFloor           78834 non-null  int64  \n",
      " 16  SRLowFloor            78834 non-null  int64  \n",
      " 17  SRAccessibleRoom      78834 non-null  int64  \n",
      " 18  SRMediumFloor         78834 non-null  int64  \n",
      " 19  SRBathtub             78834 non-null  int64  \n",
      " 20  SRShower              78834 non-null  int64  \n",
      " 21  SRCrib                78834 non-null  int64  \n",
      " 22  SRKingSizeBed         78834 non-null  int64  \n",
      " 23  SRTwinBed             78834 non-null  int64  \n",
      " 24  SRNearElevator        78834 non-null  int64  \n",
      " 25  SRAwayFromElevator    78834 non-null  int64  \n",
      " 26  SRNoAlcoholInMiniBar  78834 non-null  int64  \n",
      " 27  SRQuietRoom           78834 non-null  int64  \n",
      "dtypes: float64(3), int64(22), object(3)\n",
      "memory usage: 17.4+ MB\n"
     ]
    }
   ],
   "source": [
    "data.info()"
   ]
  },
  {
   "cell_type": "code",
   "execution_count": 11,
   "id": "45a3614a",
   "metadata": {},
   "outputs": [
    {
     "data": {
      "text/html": [
       "<div>\n",
       "<style scoped>\n",
       "    .dataframe tbody tr th:only-of-type {\n",
       "        vertical-align: middle;\n",
       "    }\n",
       "\n",
       "    .dataframe tbody tr th {\n",
       "        vertical-align: top;\n",
       "    }\n",
       "\n",
       "    .dataframe thead th {\n",
       "        text-align: right;\n",
       "    }\n",
       "</style>\n",
       "<table border=\"1\" class=\"dataframe\">\n",
       "  <thead>\n",
       "    <tr style=\"text-align: right;\">\n",
       "      <th></th>\n",
       "      <th>Nationality</th>\n",
       "      <th>Age</th>\n",
       "      <th>DaysSinceCreation</th>\n",
       "      <th>AverageLeadTime</th>\n",
       "      <th>LodgingRevenue</th>\n",
       "      <th>OtherRevenue</th>\n",
       "      <th>BookingsCanceled</th>\n",
       "      <th>BookingsNoShowed</th>\n",
       "      <th>BookingsCheckedIn</th>\n",
       "      <th>PersonsNights</th>\n",
       "      <th>...</th>\n",
       "      <th>SRMediumFloor</th>\n",
       "      <th>SRBathtub</th>\n",
       "      <th>SRShower</th>\n",
       "      <th>SRCrib</th>\n",
       "      <th>SRKingSizeBed</th>\n",
       "      <th>SRTwinBed</th>\n",
       "      <th>SRNearElevator</th>\n",
       "      <th>SRAwayFromElevator</th>\n",
       "      <th>SRNoAlcoholInMiniBar</th>\n",
       "      <th>SRQuietRoom</th>\n",
       "    </tr>\n",
       "  </thead>\n",
       "  <tbody>\n",
       "    <tr>\n",
       "      <th>0</th>\n",
       "      <td>PRT</td>\n",
       "      <td>51.0</td>\n",
       "      <td>150</td>\n",
       "      <td>45</td>\n",
       "      <td>371.0</td>\n",
       "      <td>105.3</td>\n",
       "      <td>1</td>\n",
       "      <td>0</td>\n",
       "      <td>3</td>\n",
       "      <td>8</td>\n",
       "      <td>...</td>\n",
       "      <td>0</td>\n",
       "      <td>0</td>\n",
       "      <td>0</td>\n",
       "      <td>0</td>\n",
       "      <td>0</td>\n",
       "      <td>0</td>\n",
       "      <td>0</td>\n",
       "      <td>0</td>\n",
       "      <td>0</td>\n",
       "      <td>0</td>\n",
       "    </tr>\n",
       "    <tr>\n",
       "      <th>2</th>\n",
       "      <td>DEU</td>\n",
       "      <td>31.0</td>\n",
       "      <td>1095</td>\n",
       "      <td>0</td>\n",
       "      <td>0.0</td>\n",
       "      <td>0.0</td>\n",
       "      <td>0</td>\n",
       "      <td>0</td>\n",
       "      <td>0</td>\n",
       "      <td>0</td>\n",
       "      <td>...</td>\n",
       "      <td>0</td>\n",
       "      <td>0</td>\n",
       "      <td>0</td>\n",
       "      <td>0</td>\n",
       "      <td>0</td>\n",
       "      <td>0</td>\n",
       "      <td>0</td>\n",
       "      <td>0</td>\n",
       "      <td>0</td>\n",
       "      <td>0</td>\n",
       "    </tr>\n",
       "    <tr>\n",
       "      <th>3</th>\n",
       "      <td>FRA</td>\n",
       "      <td>60.0</td>\n",
       "      <td>1095</td>\n",
       "      <td>93</td>\n",
       "      <td>240.0</td>\n",
       "      <td>60.0</td>\n",
       "      <td>0</td>\n",
       "      <td>0</td>\n",
       "      <td>1</td>\n",
       "      <td>10</td>\n",
       "      <td>...</td>\n",
       "      <td>0</td>\n",
       "      <td>0</td>\n",
       "      <td>0</td>\n",
       "      <td>0</td>\n",
       "      <td>0</td>\n",
       "      <td>0</td>\n",
       "      <td>0</td>\n",
       "      <td>0</td>\n",
       "      <td>0</td>\n",
       "      <td>0</td>\n",
       "    </tr>\n",
       "    <tr>\n",
       "      <th>4</th>\n",
       "      <td>FRA</td>\n",
       "      <td>51.0</td>\n",
       "      <td>1095</td>\n",
       "      <td>0</td>\n",
       "      <td>0.0</td>\n",
       "      <td>0.0</td>\n",
       "      <td>0</td>\n",
       "      <td>0</td>\n",
       "      <td>0</td>\n",
       "      <td>0</td>\n",
       "      <td>...</td>\n",
       "      <td>0</td>\n",
       "      <td>0</td>\n",
       "      <td>0</td>\n",
       "      <td>0</td>\n",
       "      <td>0</td>\n",
       "      <td>0</td>\n",
       "      <td>0</td>\n",
       "      <td>0</td>\n",
       "      <td>0</td>\n",
       "      <td>0</td>\n",
       "    </tr>\n",
       "    <tr>\n",
       "      <th>5</th>\n",
       "      <td>JPN</td>\n",
       "      <td>54.0</td>\n",
       "      <td>1095</td>\n",
       "      <td>58</td>\n",
       "      <td>230.0</td>\n",
       "      <td>24.0</td>\n",
       "      <td>0</td>\n",
       "      <td>0</td>\n",
       "      <td>1</td>\n",
       "      <td>4</td>\n",
       "      <td>...</td>\n",
       "      <td>0</td>\n",
       "      <td>0</td>\n",
       "      <td>0</td>\n",
       "      <td>0</td>\n",
       "      <td>0</td>\n",
       "      <td>0</td>\n",
       "      <td>0</td>\n",
       "      <td>0</td>\n",
       "      <td>0</td>\n",
       "      <td>0</td>\n",
       "    </tr>\n",
       "  </tbody>\n",
       "</table>\n",
       "<p>5 rows × 28 columns</p>\n",
       "</div>"
      ],
      "text/plain": [
       "  Nationality   Age  DaysSinceCreation  AverageLeadTime  LodgingRevenue  \\\n",
       "0         PRT  51.0                150               45           371.0   \n",
       "2         DEU  31.0               1095                0             0.0   \n",
       "3         FRA  60.0               1095               93           240.0   \n",
       "4         FRA  51.0               1095                0             0.0   \n",
       "5         JPN  54.0               1095               58           230.0   \n",
       "\n",
       "   OtherRevenue  BookingsCanceled  BookingsNoShowed  BookingsCheckedIn  \\\n",
       "0         105.3                 1                 0                  3   \n",
       "2           0.0                 0                 0                  0   \n",
       "3          60.0                 0                 0                  1   \n",
       "4           0.0                 0                 0                  0   \n",
       "5          24.0                 0                 0                  1   \n",
       "\n",
       "   PersonsNights  ...  SRMediumFloor  SRBathtub  SRShower SRCrib  \\\n",
       "0              8  ...              0          0         0      0   \n",
       "2              0  ...              0          0         0      0   \n",
       "3             10  ...              0          0         0      0   \n",
       "4              0  ...              0          0         0      0   \n",
       "5              4  ...              0          0         0      0   \n",
       "\n",
       "  SRKingSizeBed  SRTwinBed  SRNearElevator  SRAwayFromElevator  \\\n",
       "0             0          0               0                   0   \n",
       "2             0          0               0                   0   \n",
       "3             0          0               0                   0   \n",
       "4             0          0               0                   0   \n",
       "5             0          0               0                   0   \n",
       "\n",
       "   SRNoAlcoholInMiniBar  SRQuietRoom  \n",
       "0                     0            0  \n",
       "2                     0            0  \n",
       "3                     0            0  \n",
       "4                     0            0  \n",
       "5                     0            0  \n",
       "\n",
       "[5 rows x 28 columns]"
      ]
     },
     "execution_count": 11,
     "metadata": {},
     "output_type": "execute_result"
    }
   ],
   "source": [
    "data.head()"
   ]
  },
  {
   "cell_type": "markdown",
   "id": "b3887e5e",
   "metadata": {},
   "source": [
    "### Setting up label"
   ]
  },
  {
   "cell_type": "markdown",
   "id": "b726a1f3",
   "metadata": {},
   "source": [
    "    BookingsCheckedIn = 1 implies that Customer will check into the hotel\n",
    "    BookingsCheckedIn = 0 implies that Customer will not check into the hotel"
   ]
  },
  {
   "cell_type": "code",
   "execution_count": 12,
   "id": "b9c966b2",
   "metadata": {},
   "outputs": [
    {
     "data": {
      "text/plain": [
       "array([ 3,  0,  1,  9, 11,  2,  7,  8,  5,  6,  4, 66, 15, 29, 25, 10, 17,\n",
       "       13, 26, 23, 12, 57, 40, 18, 14, 24, 20, 34], dtype=int64)"
      ]
     },
     "execution_count": 12,
     "metadata": {},
     "output_type": "execute_result"
    }
   ],
   "source": [
    "data['BookingsCheckedIn'].unique()"
   ]
  },
  {
   "cell_type": "code",
   "execution_count": 13,
   "id": "f30db367",
   "metadata": {},
   "outputs": [],
   "source": [
    "data['BookingsCheckedIn'] = data['BookingsCheckedIn'].replace([3,9,11,2,7,8,5,6,4,66,15,29,25,10,17,13,26,23,12,57,40,18,18,14,24,20,34],1)"
   ]
  },
  {
   "cell_type": "code",
   "execution_count": 14,
   "id": "aebff53d",
   "metadata": {},
   "outputs": [
    {
     "data": {
      "text/html": [
       "<div>\n",
       "<style scoped>\n",
       "    .dataframe tbody tr th:only-of-type {\n",
       "        vertical-align: middle;\n",
       "    }\n",
       "\n",
       "    .dataframe tbody tr th {\n",
       "        vertical-align: top;\n",
       "    }\n",
       "\n",
       "    .dataframe thead th {\n",
       "        text-align: right;\n",
       "    }\n",
       "</style>\n",
       "<table border=\"1\" class=\"dataframe\">\n",
       "  <thead>\n",
       "    <tr style=\"text-align: right;\">\n",
       "      <th></th>\n",
       "      <th>Nationality</th>\n",
       "      <th>Age</th>\n",
       "      <th>DaysSinceCreation</th>\n",
       "      <th>AverageLeadTime</th>\n",
       "      <th>LodgingRevenue</th>\n",
       "      <th>OtherRevenue</th>\n",
       "      <th>BookingsCanceled</th>\n",
       "      <th>BookingsNoShowed</th>\n",
       "      <th>BookingsCheckedIn</th>\n",
       "      <th>PersonsNights</th>\n",
       "      <th>...</th>\n",
       "      <th>SRMediumFloor</th>\n",
       "      <th>SRBathtub</th>\n",
       "      <th>SRShower</th>\n",
       "      <th>SRCrib</th>\n",
       "      <th>SRKingSizeBed</th>\n",
       "      <th>SRTwinBed</th>\n",
       "      <th>SRNearElevator</th>\n",
       "      <th>SRAwayFromElevator</th>\n",
       "      <th>SRNoAlcoholInMiniBar</th>\n",
       "      <th>SRQuietRoom</th>\n",
       "    </tr>\n",
       "  </thead>\n",
       "  <tbody>\n",
       "    <tr>\n",
       "      <th>0</th>\n",
       "      <td>PRT</td>\n",
       "      <td>51.0</td>\n",
       "      <td>150</td>\n",
       "      <td>45</td>\n",
       "      <td>371.0</td>\n",
       "      <td>105.3</td>\n",
       "      <td>1</td>\n",
       "      <td>0</td>\n",
       "      <td>1</td>\n",
       "      <td>8</td>\n",
       "      <td>...</td>\n",
       "      <td>0</td>\n",
       "      <td>0</td>\n",
       "      <td>0</td>\n",
       "      <td>0</td>\n",
       "      <td>0</td>\n",
       "      <td>0</td>\n",
       "      <td>0</td>\n",
       "      <td>0</td>\n",
       "      <td>0</td>\n",
       "      <td>0</td>\n",
       "    </tr>\n",
       "    <tr>\n",
       "      <th>2</th>\n",
       "      <td>DEU</td>\n",
       "      <td>31.0</td>\n",
       "      <td>1095</td>\n",
       "      <td>0</td>\n",
       "      <td>0.0</td>\n",
       "      <td>0.0</td>\n",
       "      <td>0</td>\n",
       "      <td>0</td>\n",
       "      <td>0</td>\n",
       "      <td>0</td>\n",
       "      <td>...</td>\n",
       "      <td>0</td>\n",
       "      <td>0</td>\n",
       "      <td>0</td>\n",
       "      <td>0</td>\n",
       "      <td>0</td>\n",
       "      <td>0</td>\n",
       "      <td>0</td>\n",
       "      <td>0</td>\n",
       "      <td>0</td>\n",
       "      <td>0</td>\n",
       "    </tr>\n",
       "    <tr>\n",
       "      <th>3</th>\n",
       "      <td>FRA</td>\n",
       "      <td>60.0</td>\n",
       "      <td>1095</td>\n",
       "      <td>93</td>\n",
       "      <td>240.0</td>\n",
       "      <td>60.0</td>\n",
       "      <td>0</td>\n",
       "      <td>0</td>\n",
       "      <td>1</td>\n",
       "      <td>10</td>\n",
       "      <td>...</td>\n",
       "      <td>0</td>\n",
       "      <td>0</td>\n",
       "      <td>0</td>\n",
       "      <td>0</td>\n",
       "      <td>0</td>\n",
       "      <td>0</td>\n",
       "      <td>0</td>\n",
       "      <td>0</td>\n",
       "      <td>0</td>\n",
       "      <td>0</td>\n",
       "    </tr>\n",
       "    <tr>\n",
       "      <th>4</th>\n",
       "      <td>FRA</td>\n",
       "      <td>51.0</td>\n",
       "      <td>1095</td>\n",
       "      <td>0</td>\n",
       "      <td>0.0</td>\n",
       "      <td>0.0</td>\n",
       "      <td>0</td>\n",
       "      <td>0</td>\n",
       "      <td>0</td>\n",
       "      <td>0</td>\n",
       "      <td>...</td>\n",
       "      <td>0</td>\n",
       "      <td>0</td>\n",
       "      <td>0</td>\n",
       "      <td>0</td>\n",
       "      <td>0</td>\n",
       "      <td>0</td>\n",
       "      <td>0</td>\n",
       "      <td>0</td>\n",
       "      <td>0</td>\n",
       "      <td>0</td>\n",
       "    </tr>\n",
       "    <tr>\n",
       "      <th>5</th>\n",
       "      <td>JPN</td>\n",
       "      <td>54.0</td>\n",
       "      <td>1095</td>\n",
       "      <td>58</td>\n",
       "      <td>230.0</td>\n",
       "      <td>24.0</td>\n",
       "      <td>0</td>\n",
       "      <td>0</td>\n",
       "      <td>1</td>\n",
       "      <td>4</td>\n",
       "      <td>...</td>\n",
       "      <td>0</td>\n",
       "      <td>0</td>\n",
       "      <td>0</td>\n",
       "      <td>0</td>\n",
       "      <td>0</td>\n",
       "      <td>0</td>\n",
       "      <td>0</td>\n",
       "      <td>0</td>\n",
       "      <td>0</td>\n",
       "      <td>0</td>\n",
       "    </tr>\n",
       "    <tr>\n",
       "      <th>6</th>\n",
       "      <td>JPN</td>\n",
       "      <td>49.0</td>\n",
       "      <td>1095</td>\n",
       "      <td>0</td>\n",
       "      <td>0.0</td>\n",
       "      <td>0.0</td>\n",
       "      <td>0</td>\n",
       "      <td>0</td>\n",
       "      <td>0</td>\n",
       "      <td>0</td>\n",
       "      <td>...</td>\n",
       "      <td>0</td>\n",
       "      <td>0</td>\n",
       "      <td>0</td>\n",
       "      <td>0</td>\n",
       "      <td>0</td>\n",
       "      <td>0</td>\n",
       "      <td>0</td>\n",
       "      <td>0</td>\n",
       "      <td>0</td>\n",
       "      <td>0</td>\n",
       "    </tr>\n",
       "    <tr>\n",
       "      <th>7</th>\n",
       "      <td>FRA</td>\n",
       "      <td>32.0</td>\n",
       "      <td>1095</td>\n",
       "      <td>38</td>\n",
       "      <td>535.0</td>\n",
       "      <td>94.0</td>\n",
       "      <td>0</td>\n",
       "      <td>0</td>\n",
       "      <td>1</td>\n",
       "      <td>10</td>\n",
       "      <td>...</td>\n",
       "      <td>0</td>\n",
       "      <td>0</td>\n",
       "      <td>0</td>\n",
       "      <td>0</td>\n",
       "      <td>1</td>\n",
       "      <td>0</td>\n",
       "      <td>0</td>\n",
       "      <td>0</td>\n",
       "      <td>0</td>\n",
       "      <td>0</td>\n",
       "    </tr>\n",
       "    <tr>\n",
       "      <th>8</th>\n",
       "      <td>FRA</td>\n",
       "      <td>42.0</td>\n",
       "      <td>1095</td>\n",
       "      <td>0</td>\n",
       "      <td>0.0</td>\n",
       "      <td>0.0</td>\n",
       "      <td>0</td>\n",
       "      <td>0</td>\n",
       "      <td>0</td>\n",
       "      <td>0</td>\n",
       "      <td>...</td>\n",
       "      <td>0</td>\n",
       "      <td>0</td>\n",
       "      <td>0</td>\n",
       "      <td>0</td>\n",
       "      <td>1</td>\n",
       "      <td>0</td>\n",
       "      <td>0</td>\n",
       "      <td>0</td>\n",
       "      <td>0</td>\n",
       "      <td>0</td>\n",
       "    </tr>\n",
       "    <tr>\n",
       "      <th>9</th>\n",
       "      <td>IRL</td>\n",
       "      <td>25.0</td>\n",
       "      <td>1095</td>\n",
       "      <td>96</td>\n",
       "      <td>174.0</td>\n",
       "      <td>69.0</td>\n",
       "      <td>0</td>\n",
       "      <td>0</td>\n",
       "      <td>1</td>\n",
       "      <td>6</td>\n",
       "      <td>...</td>\n",
       "      <td>0</td>\n",
       "      <td>0</td>\n",
       "      <td>0</td>\n",
       "      <td>0</td>\n",
       "      <td>0</td>\n",
       "      <td>0</td>\n",
       "      <td>0</td>\n",
       "      <td>0</td>\n",
       "      <td>0</td>\n",
       "      <td>0</td>\n",
       "    </tr>\n",
       "    <tr>\n",
       "      <th>10</th>\n",
       "      <td>IRL</td>\n",
       "      <td>27.0</td>\n",
       "      <td>1095</td>\n",
       "      <td>0</td>\n",
       "      <td>0.0</td>\n",
       "      <td>0.0</td>\n",
       "      <td>0</td>\n",
       "      <td>0</td>\n",
       "      <td>0</td>\n",
       "      <td>0</td>\n",
       "      <td>...</td>\n",
       "      <td>0</td>\n",
       "      <td>0</td>\n",
       "      <td>0</td>\n",
       "      <td>0</td>\n",
       "      <td>0</td>\n",
       "      <td>0</td>\n",
       "      <td>0</td>\n",
       "      <td>0</td>\n",
       "      <td>0</td>\n",
       "      <td>0</td>\n",
       "    </tr>\n",
       "  </tbody>\n",
       "</table>\n",
       "<p>10 rows × 28 columns</p>\n",
       "</div>"
      ],
      "text/plain": [
       "   Nationality   Age  DaysSinceCreation  AverageLeadTime  LodgingRevenue  \\\n",
       "0          PRT  51.0                150               45           371.0   \n",
       "2          DEU  31.0               1095                0             0.0   \n",
       "3          FRA  60.0               1095               93           240.0   \n",
       "4          FRA  51.0               1095                0             0.0   \n",
       "5          JPN  54.0               1095               58           230.0   \n",
       "6          JPN  49.0               1095                0             0.0   \n",
       "7          FRA  32.0               1095               38           535.0   \n",
       "8          FRA  42.0               1095                0             0.0   \n",
       "9          IRL  25.0               1095               96           174.0   \n",
       "10         IRL  27.0               1095                0             0.0   \n",
       "\n",
       "    OtherRevenue  BookingsCanceled  BookingsNoShowed  BookingsCheckedIn  \\\n",
       "0          105.3                 1                 0                  1   \n",
       "2            0.0                 0                 0                  0   \n",
       "3           60.0                 0                 0                  1   \n",
       "4            0.0                 0                 0                  0   \n",
       "5           24.0                 0                 0                  1   \n",
       "6            0.0                 0                 0                  0   \n",
       "7           94.0                 0                 0                  1   \n",
       "8            0.0                 0                 0                  0   \n",
       "9           69.0                 0                 0                  1   \n",
       "10           0.0                 0                 0                  0   \n",
       "\n",
       "    PersonsNights  ...  SRMediumFloor  SRBathtub  SRShower SRCrib  \\\n",
       "0               8  ...              0          0         0      0   \n",
       "2               0  ...              0          0         0      0   \n",
       "3              10  ...              0          0         0      0   \n",
       "4               0  ...              0          0         0      0   \n",
       "5               4  ...              0          0         0      0   \n",
       "6               0  ...              0          0         0      0   \n",
       "7              10  ...              0          0         0      0   \n",
       "8               0  ...              0          0         0      0   \n",
       "9               6  ...              0          0         0      0   \n",
       "10              0  ...              0          0         0      0   \n",
       "\n",
       "   SRKingSizeBed  SRTwinBed  SRNearElevator  SRAwayFromElevator  \\\n",
       "0              0          0               0                   0   \n",
       "2              0          0               0                   0   \n",
       "3              0          0               0                   0   \n",
       "4              0          0               0                   0   \n",
       "5              0          0               0                   0   \n",
       "6              0          0               0                   0   \n",
       "7              1          0               0                   0   \n",
       "8              1          0               0                   0   \n",
       "9              0          0               0                   0   \n",
       "10             0          0               0                   0   \n",
       "\n",
       "    SRNoAlcoholInMiniBar  SRQuietRoom  \n",
       "0                      0            0  \n",
       "2                      0            0  \n",
       "3                      0            0  \n",
       "4                      0            0  \n",
       "5                      0            0  \n",
       "6                      0            0  \n",
       "7                      0            0  \n",
       "8                      0            0  \n",
       "9                      0            0  \n",
       "10                     0            0  \n",
       "\n",
       "[10 rows x 28 columns]"
      ]
     },
     "execution_count": 14,
     "metadata": {},
     "output_type": "execute_result"
    }
   ],
   "source": [
    "data.head(10)"
   ]
  },
  {
   "cell_type": "code",
   "execution_count": 15,
   "id": "6243cdec",
   "metadata": {},
   "outputs": [
    {
     "data": {
      "text/plain": [
       "Text(0, 0.5, 'Number Of Bookings Checked in')"
      ]
     },
     "execution_count": 15,
     "metadata": {},
     "output_type": "execute_result"
    },
    {
     "data": {
      "image/png": "[encoded data removed]",
      "text/plain": [
       "<Figure size 1080x360 with 1 Axes>"
      ]
     },
     "metadata": {
      "needs_background": "light"
     },
     "output_type": "display_data"
    }
   ],
   "source": [
    "# Count Plot\n",
    "plt.figure(figsize=(15,5))\n",
    "sns.countplot(x='BookingsCheckedIn',data=data)\n",
    "plt.title(\"Count Of Bookings\",fontsize=20)\n",
    "plt.xlabel(\"Checked in or not\",fontsize=18)\n",
    "plt.ylabel(\"Number Of Bookings Checked in\",fontsize=18)"
   ]
  },
  {
   "cell_type": "code",
   "execution_count": 16,
   "id": "80557860",
   "metadata": {},
   "outputs": [
    {
     "name": "stdout",
     "output_type": "stream",
     "text": [
      "Percent Of Bookings Checked In:76.44 %\n",
      "Percent Of Bookings not Checked In:23.56 %\n"
     ]
    }
   ],
   "source": [
    "# Percentage of values in each category\n",
    "print(\"Percent Of Bookings Checked In:{:.2f} %\".format(len(data[data['BookingsCheckedIn']==1])/len(data['BookingsCheckedIn'])*100))\n",
    "print(\"Percent Of Bookings not Checked In:{:.2f} %\".format(len(data[data['BookingsCheckedIn']==0])/len(data['BookingsCheckedIn'])*100))"
   ]
  },
  {
   "cell_type": "markdown",
   "id": "0795a83d",
   "metadata": {},
   "source": [
    "There is a class imbalance:\n",
    "\n",
    "    1. 76% of data belongs to class 1\n",
    "    2. 23% of data belongs to class 0"
   ]
  },
  {
   "cell_type": "markdown",
   "id": "b641ce2b",
   "metadata": {},
   "source": [
    "### Data Preprocessing"
   ]
  },
  {
   "cell_type": "code",
   "execution_count": 17,
   "id": "a997852e",
   "metadata": {},
   "outputs": [
    {
     "name": "stderr",
     "output_type": "stream",
     "text": [
      "100%|████████████████████████████████████████████████████████████████████████| 78834/78834 [00:00<00:00, 523485.35it/s]\n"
     ]
    }
   ],
   "source": [
    "from tqdm import tqdm\n",
    "preprocessed_DistributionChannel = []\n",
    "# tqdm is for printing the status bar\n",
    "for sentance in tqdm(data['DistributionChannel'].values):\n",
    "    sentance = sentance.replace('/', '_')\n",
    "    sentance = sentance.replace(' ', '_')\n",
    "    preprocessed_DistributionChannel.append(sentance.lower().strip())"
   ]
  },
  {
   "cell_type": "code",
   "execution_count": 18,
   "id": "b89121da",
   "metadata": {},
   "outputs": [
    {
     "data": {
      "text/plain": [
       "{'corporate', 'direct', 'electronic_distribution', 'travel_agent_operator'}"
      ]
     },
     "execution_count": 18,
     "metadata": {},
     "output_type": "execute_result"
    }
   ],
   "source": [
    "set(preprocessed_DistributionChannel)"
   ]
  },
  {
   "cell_type": "code",
   "execution_count": 19,
   "id": "e69ee61a",
   "metadata": {},
   "outputs": [],
   "source": [
    "data['DistributionChannel']=preprocessed_DistributionChannel"
   ]
  },
  {
   "cell_type": "code",
   "execution_count": 20,
   "id": "0031a5e8",
   "metadata": {},
   "outputs": [
    {
     "data": {
      "text/plain": [
       "0                corporate\n",
       "2    travel_agent_operator\n",
       "3    travel_agent_operator\n",
       "4    travel_agent_operator\n",
       "5    travel_agent_operator\n",
       "Name: DistributionChannel, dtype: object"
      ]
     },
     "execution_count": 20,
     "metadata": {},
     "output_type": "execute_result"
    }
   ],
   "source": [
    "data['DistributionChannel'].head()"
   ]
  },
  {
   "cell_type": "code",
   "execution_count": 21,
   "id": "cd3d9caa",
   "metadata": {},
   "outputs": [],
   "source": [
    "data['DistributionChannel']=data['DistributionChannel'].replace({'corporate':0, 'direct':1, 'electronic_distribution':2, \n",
    "                                                                 'travel_agent_operator':3})\n"
   ]
  },
  {
   "cell_type": "code",
   "execution_count": 22,
   "id": "56a66233",
   "metadata": {},
   "outputs": [
    {
     "data": {
      "text/plain": [
       "0    0\n",
       "2    3\n",
       "3    3\n",
       "4    3\n",
       "5    3\n",
       "Name: DistributionChannel, dtype: int64"
      ]
     },
     "execution_count": 22,
     "metadata": {},
     "output_type": "execute_result"
    }
   ],
   "source": [
    "data['DistributionChannel'].head()"
   ]
  },
  {
   "cell_type": "code",
   "execution_count": 23,
   "id": "3f390102",
   "metadata": {},
   "outputs": [
    {
     "name": "stderr",
     "output_type": "stream",
     "text": [
      "100%|████████████████████████████████████████████████████████████████████████| 78834/78834 [00:00<00:00, 627316.98it/s]\n"
     ]
    }
   ],
   "source": [
    "from tqdm import tqdm\n",
    "preprocessed_MarketSegment = []\n",
    "# tqdm is for printing the status bar\n",
    "for sentance in tqdm(data['MarketSegment'].values):\n",
    "    sentance = sentance.replace('/', '_')\n",
    "    sentance = sentance.replace(' ', '_')\n",
    "    preprocessed_MarketSegment.append(sentance.lower().strip())"
   ]
  },
  {
   "cell_type": "code",
   "execution_count": 24,
   "id": "fa9029b4",
   "metadata": {},
   "outputs": [
    {
     "data": {
      "text/plain": [
       "{'aviation',\n",
       " 'complementary',\n",
       " 'corporate',\n",
       " 'direct',\n",
       " 'groups',\n",
       " 'other',\n",
       " 'travel_agent_operator'}"
      ]
     },
     "execution_count": 24,
     "metadata": {},
     "output_type": "execute_result"
    }
   ],
   "source": [
    "set(preprocessed_MarketSegment)"
   ]
  },
  {
   "cell_type": "code",
   "execution_count": 25,
   "id": "a2bd42ca",
   "metadata": {},
   "outputs": [],
   "source": [
    "data['MarketSegment']=preprocessed_MarketSegment"
   ]
  },
  {
   "cell_type": "code",
   "execution_count": 26,
   "id": "f7663b38",
   "metadata": {},
   "outputs": [],
   "source": [
    "data['MarketSegment']=data['MarketSegment'].replace({'aviation':0, 'complementary':1, 'corporate':2, \n",
    "                                                    'direct':3, 'groups':4, 'other':5, 'travel_agent_operator':6})"
   ]
  },
  {
   "cell_type": "code",
   "execution_count": 27,
   "id": "b045b92e",
   "metadata": {},
   "outputs": [],
   "source": [
    "nationality_dict= dict.fromkeys(set(data['Nationality']),0)"
   ]
  },
  {
   "cell_type": "code",
   "execution_count": 28,
   "id": "199b6324",
   "metadata": {},
   "outputs": [],
   "source": [
    "nationality_dict=dict()\n",
    "label=0\n",
    "for i in  set(data['Nationality']):\n",
    "    nationality_dict[i]=label\n",
    "    label+=1"
   ]
  },
  {
   "cell_type": "code",
   "execution_count": 29,
   "id": "2b70130c",
   "metadata": {},
   "outputs": [
    {
     "data": {
      "text/plain": [
       "{'SLV': 0,\n",
       " 'PER': 1,\n",
       " 'SWE': 2,\n",
       " 'LVA': 3,\n",
       " 'MLI': 4,\n",
       " 'SRB': 5,\n",
       " 'LBY': 6,\n",
       " 'USA': 7,\n",
       " 'TWN': 8,\n",
       " 'AUS': 9,\n",
       " 'THA': 10,\n",
       " 'NGA': 11,\n",
       " 'MDV': 12,\n",
       " 'SVN': 13,\n",
       " 'NLD': 14,\n",
       " 'PHL': 15,\n",
       " 'GBR': 16,\n",
       " 'SUR': 17,\n",
       " 'CAN': 18,\n",
       " 'SDN': 19,\n",
       " 'MDG': 20,\n",
       " 'CZE': 21,\n",
       " 'KIR': 22,\n",
       " 'FJI': 23,\n",
       " 'QAT': 24,\n",
       " 'RWA': 25,\n",
       " 'SGP': 26,\n",
       " 'NCL': 27,\n",
       " 'SOM': 28,\n",
       " 'POL': 29,\n",
       " 'MRT': 30,\n",
       " 'KOR': 31,\n",
       " 'BWA': 32,\n",
       " 'NZL': 33,\n",
       " 'JOR': 34,\n",
       " 'ETH': 35,\n",
       " 'RUS': 36,\n",
       " 'GIN': 37,\n",
       " 'COM': 38,\n",
       " 'DOM': 39,\n",
       " 'SMR': 40,\n",
       " 'PRI': 41,\n",
       " 'SWZ': 42,\n",
       " 'ZAF': 43,\n",
       " 'URY': 44,\n",
       " 'IRQ': 45,\n",
       " 'ATF': 46,\n",
       " 'SLE': 47,\n",
       " 'ITA': 48,\n",
       " 'JAM': 49,\n",
       " 'GEO': 50,\n",
       " 'CHN': 51,\n",
       " 'MAR': 52,\n",
       " 'BRA': 53,\n",
       " 'VEN': 54,\n",
       " 'UGA': 55,\n",
       " 'ROU': 56,\n",
       " 'ARE': 57,\n",
       " 'PCN': 58,\n",
       " 'TKM': 59,\n",
       " 'ISL': 60,\n",
       " 'ERI': 61,\n",
       " 'AZE': 62,\n",
       " 'WLF': 63,\n",
       " 'STP': 64,\n",
       " 'EGY': 65,\n",
       " 'TJK': 66,\n",
       " 'TZA': 67,\n",
       " 'MKD': 68,\n",
       " 'MWI': 69,\n",
       " 'CRI': 70,\n",
       " 'IRN': 71,\n",
       " 'JPN': 72,\n",
       " 'HRV': 73,\n",
       " 'FRO': 74,\n",
       " 'MUS': 75,\n",
       " 'ESP': 76,\n",
       " 'PAK': 77,\n",
       " 'NRU': 78,\n",
       " 'MEX': 79,\n",
       " 'SYC': 80,\n",
       " 'GHA': 81,\n",
       " 'DNK': 82,\n",
       " 'MYS': 83,\n",
       " 'GAB': 84,\n",
       " 'GUY': 85,\n",
       " 'BEN': 86,\n",
       " 'ECU': 87,\n",
       " 'LBN': 88,\n",
       " 'CUB': 89,\n",
       " 'CHL': 90,\n",
       " 'GRC': 91,\n",
       " 'BOL': 92,\n",
       " 'PAN': 93,\n",
       " 'ARM': 94,\n",
       " 'NIC': 95,\n",
       " 'LCA': 96,\n",
       " 'ARG': 97,\n",
       " 'BIH': 98,\n",
       " 'YEM': 99,\n",
       " 'SYR': 100,\n",
       " 'WSM': 101,\n",
       " 'FLK': 102,\n",
       " 'CYP': 103,\n",
       " 'UMI': 104,\n",
       " 'DEU': 105,\n",
       " 'COL': 106,\n",
       " 'AND': 107,\n",
       " 'CPV': 108,\n",
       " 'DZA': 109,\n",
       " 'KGZ': 110,\n",
       " 'EST': 111,\n",
       " 'BHR': 112,\n",
       " 'HKG': 113,\n",
       " 'VNM': 114,\n",
       " 'ATG': 115,\n",
       " 'HUN': 116,\n",
       " 'IND': 117,\n",
       " 'GTM': 118,\n",
       " 'NOR': 119,\n",
       " 'ALB': 120,\n",
       " 'PNG': 121,\n",
       " 'MMR': 122,\n",
       " 'GNQ': 123,\n",
       " 'UZB': 124,\n",
       " 'MLT': 125,\n",
       " 'LTU': 126,\n",
       " 'MNE': 127,\n",
       " 'KWT': 128,\n",
       " 'ASM': 129,\n",
       " 'BRB': 130,\n",
       " 'CIV': 131,\n",
       " 'VIR': 132,\n",
       " 'PRY': 133,\n",
       " 'BHS': 134,\n",
       " 'TUN': 135,\n",
       " 'PRT': 136,\n",
       " 'TMP': 137,\n",
       " 'GUF': 138,\n",
       " 'MCO': 139,\n",
       " 'KNA': 140,\n",
       " 'ZWE': 141,\n",
       " 'LUX': 142,\n",
       " 'LIE': 143,\n",
       " 'SEN': 144,\n",
       " 'TUR': 145,\n",
       " 'BGR': 146,\n",
       " 'KAZ': 147,\n",
       " 'TON': 148,\n",
       " 'DMA': 149,\n",
       " 'MOZ': 150,\n",
       " 'AIA': 151,\n",
       " 'AGO': 152,\n",
       " 'NAM': 153,\n",
       " 'SAU': 154,\n",
       " 'FRA': 155,\n",
       " 'NPL': 156,\n",
       " 'JEY': 157,\n",
       " 'HTI': 158,\n",
       " 'GIB': 159,\n",
       " 'UKR': 160,\n",
       " 'SPM': 161,\n",
       " 'BGD': 162,\n",
       " 'ABW': 163,\n",
       " 'CYM': 164,\n",
       " 'CHE': 165,\n",
       " 'PYF': 166,\n",
       " 'KEN': 167,\n",
       " 'TCD': 168,\n",
       " 'OMN': 169,\n",
       " 'GNB': 170,\n",
       " 'TGO': 171,\n",
       " 'IOT': 172,\n",
       " 'AUT': 173,\n",
       " 'VCT': 174,\n",
       " 'LAO': 175,\n",
       " 'COD': 176,\n",
       " 'FIN': 177,\n",
       " 'SVK': 178,\n",
       " 'LKA': 179,\n",
       " 'BEL': 180,\n",
       " 'CMR': 181,\n",
       " 'ATA': 182,\n",
       " 'ISR': 183,\n",
       " 'CAF': 184,\n",
       " 'BLR': 185,\n",
       " 'IDN': 186,\n",
       " 'IRL': 187}"
      ]
     },
     "execution_count": 29,
     "metadata": {},
     "output_type": "execute_result"
    }
   ],
   "source": [
    "nationality_dict"
   ]
  },
  {
   "cell_type": "code",
   "execution_count": 30,
   "id": "1782823f",
   "metadata": {},
   "outputs": [],
   "source": [
    "data['Nationality'] = data['Nationality'].replace(nationality_dict)"
   ]
  },
  {
   "cell_type": "markdown",
   "id": "4a81f4a2",
   "metadata": {},
   "source": [
    "### Setting up data"
   ]
  },
  {
   "cell_type": "code",
   "execution_count": 31,
   "id": "7bfe7bdc",
   "metadata": {},
   "outputs": [
    {
     "name": "stdout",
     "output_type": "stream",
     "text": [
      "(78834, 27)\n",
      "(78834,)\n"
     ]
    }
   ],
   "source": [
    "Y = data['BookingsCheckedIn'].values\n",
    "data.drop(['BookingsCheckedIn'], axis=1, inplace=True)\n",
    "X = data\n",
    "\n",
    "print(X.shape)\n",
    "print(Y.shape)"
   ]
  },
  {
   "cell_type": "markdown",
   "id": "438f43f1",
   "metadata": {},
   "source": [
    "### Modelling"
   ]
  },
  {
   "cell_type": "markdown",
   "id": "258dcd04",
   "metadata": {},
   "source": [
    "#### 1. Logistic Regression Model"
   ]
  },
  {
   "cell_type": "code",
   "execution_count": 32,
   "id": "28bfdf3f",
   "metadata": {},
   "outputs": [],
   "source": [
    "# Importing\n",
    "from sklearn.linear_model import LogisticRegression"
   ]
  },
  {
   "cell_type": "code",
   "execution_count": 33,
   "id": "e10dd3c0",
   "metadata": {},
   "outputs": [
    {
     "data": {
      "text/plain": [
       "LogisticRegression()"
      ]
     },
     "execution_count": 33,
     "metadata": {},
     "output_type": "execute_result"
    }
   ],
   "source": [
    "log_model = LogisticRegression()\n",
    "log_model.fit(X,Y)"
   ]
  },
  {
   "cell_type": "code",
   "execution_count": 41,
   "id": "28b7a9c9",
   "metadata": {},
   "outputs": [],
   "source": [
    "'''import pickle\n",
    "\n",
    "pickle.dump(log_model, open('LR_model.pkl', 'wb'))'''"
   ]
  },
  {
   "cell_type": "markdown",
   "id": "a0a5eaad",
   "metadata": {},
   "source": [
    "#### 2. XGBoost Model"
   ]
  },
  {
   "cell_type": "code",
   "execution_count": 34,
   "id": "fb7f6fa8",
   "metadata": {},
   "outputs": [],
   "source": [
    "import xgboost as xgb"
   ]
  },
  {
   "cell_type": "code",
   "execution_count": 35,
   "id": "82a03f87",
   "metadata": {},
   "outputs": [
    {
     "name": "stdout",
     "output_type": "stream",
     "text": [
      "[16:45:52] WARNING: ..\\src\\learner.cc:1061: Starting in XGBoost 1.3.0, the default evaluation metric used with the objective 'binary:logistic' was changed from 'error' to 'logloss'. Explicitly set eval_metric if you'd like to restore the old behavior.\n"
     ]
    },
    {
     "data": {
      "text/plain": [
       "XGBClassifier(base_score=0.5, booster='gbtree', colsample_bylevel=1,\n",
       "              colsample_bynode=1, colsample_bytree=1, gamma=0, gpu_id=-1,\n",
       "              importance_type='gain', interaction_constraints='',\n",
       "              learning_rate=0.300000012, max_delta_step=0, max_depth=6,\n",
       "              min_child_weight=1, missing=nan, monotone_constraints='()',\n",
       "              n_estimators=100, n_jobs=12, num_parallel_tree=1, random_state=0,\n",
       "              reg_alpha=0, reg_lambda=1, scale_pos_weight=1, subsample=1,\n",
       "              tree_method='exact', validate_parameters=1, verbosity=None)"
      ]
     },
     "execution_count": 35,
     "metadata": {},
     "output_type": "execute_result"
    }
   ],
   "source": [
    "xgb_model = xgb.XGBClassifier()\n",
    "xgb_model.fit(X, Y)"
   ]
  },
  {
   "cell_type": "code",
   "execution_count": null,
   "id": "54c280d2",
   "metadata": {},
   "outputs": [],
   "source": [
    "'''import pickle\n",
    "\n",
    "pickle.dump(xgb_model, open('xgb_model.pkl', 'wb'))'''"
   ]
  },
  {
   "cell_type": "code",
   "execution_count": 36,
   "id": "cd3e10b2",
   "metadata": {},
   "outputs": [
    {
     "data": {
      "text/plain": [
       "array([0.0000000e+00, 0.0000000e+00, 0.0000000e+00, 0.0000000e+00,\n",
       "       2.2852306e-04, 0.0000000e+00, 0.0000000e+00, 0.0000000e+00,\n",
       "       0.0000000e+00, 9.9961871e-01, 0.0000000e+00, 1.5281059e-04,\n",
       "       0.0000000e+00, 0.0000000e+00, 0.0000000e+00, 0.0000000e+00,\n",
       "       0.0000000e+00, 0.0000000e+00, 0.0000000e+00, 0.0000000e+00,\n",
       "       0.0000000e+00, 0.0000000e+00, 0.0000000e+00, 0.0000000e+00,\n",
       "       0.0000000e+00, 0.0000000e+00, 0.0000000e+00], dtype=float32)"
      ]
     },
     "execution_count": 36,
     "metadata": {},
     "output_type": "execute_result"
    }
   ],
   "source": [
    "xgb_model.feature_importances_"
   ]
  },
  {
   "cell_type": "markdown",
   "id": "4112f2f4",
   "metadata": {},
   "source": [
    "Here the only important features are:\n",
    "   1. LodgingRevenue\n",
    "   2. RoomNights\n",
    "   3. DaysSinceFirstStay"
   ]
  },
  {
   "cell_type": "code",
   "execution_count": 37,
   "id": "0b01ff17",
   "metadata": {},
   "outputs": [
    {
     "data": {
      "text/html": [
       "<div>\n",
       "<style scoped>\n",
       "    .dataframe tbody tr th:only-of-type {\n",
       "        vertical-align: middle;\n",
       "    }\n",
       "\n",
       "    .dataframe tbody tr th {\n",
       "        vertical-align: top;\n",
       "    }\n",
       "\n",
       "    .dataframe thead th {\n",
       "        text-align: right;\n",
       "    }\n",
       "</style>\n",
       "<table border=\"1\" class=\"dataframe\">\n",
       "  <thead>\n",
       "    <tr style=\"text-align: right;\">\n",
       "      <th></th>\n",
       "      <th>Nationality</th>\n",
       "      <th>Age</th>\n",
       "      <th>DaysSinceCreation</th>\n",
       "      <th>AverageLeadTime</th>\n",
       "      <th>LodgingRevenue</th>\n",
       "      <th>OtherRevenue</th>\n",
       "      <th>BookingsCanceled</th>\n",
       "      <th>BookingsNoShowed</th>\n",
       "      <th>PersonsNights</th>\n",
       "      <th>RoomNights</th>\n",
       "      <th>...</th>\n",
       "      <th>SRMediumFloor</th>\n",
       "      <th>SRBathtub</th>\n",
       "      <th>SRShower</th>\n",
       "      <th>SRCrib</th>\n",
       "      <th>SRKingSizeBed</th>\n",
       "      <th>SRTwinBed</th>\n",
       "      <th>SRNearElevator</th>\n",
       "      <th>SRAwayFromElevator</th>\n",
       "      <th>SRNoAlcoholInMiniBar</th>\n",
       "      <th>SRQuietRoom</th>\n",
       "    </tr>\n",
       "  </thead>\n",
       "  <tbody>\n",
       "    <tr>\n",
       "      <th>0</th>\n",
       "      <td>136</td>\n",
       "      <td>51.0</td>\n",
       "      <td>150</td>\n",
       "      <td>45</td>\n",
       "      <td>371.0</td>\n",
       "      <td>105.3</td>\n",
       "      <td>1</td>\n",
       "      <td>0</td>\n",
       "      <td>8</td>\n",
       "      <td>5</td>\n",
       "      <td>...</td>\n",
       "      <td>0</td>\n",
       "      <td>0</td>\n",
       "      <td>0</td>\n",
       "      <td>0</td>\n",
       "      <td>0</td>\n",
       "      <td>0</td>\n",
       "      <td>0</td>\n",
       "      <td>0</td>\n",
       "      <td>0</td>\n",
       "      <td>0</td>\n",
       "    </tr>\n",
       "    <tr>\n",
       "      <th>2</th>\n",
       "      <td>105</td>\n",
       "      <td>31.0</td>\n",
       "      <td>1095</td>\n",
       "      <td>0</td>\n",
       "      <td>0.0</td>\n",
       "      <td>0.0</td>\n",
       "      <td>0</td>\n",
       "      <td>0</td>\n",
       "      <td>0</td>\n",
       "      <td>0</td>\n",
       "      <td>...</td>\n",
       "      <td>0</td>\n",
       "      <td>0</td>\n",
       "      <td>0</td>\n",
       "      <td>0</td>\n",
       "      <td>0</td>\n",
       "      <td>0</td>\n",
       "      <td>0</td>\n",
       "      <td>0</td>\n",
       "      <td>0</td>\n",
       "      <td>0</td>\n",
       "    </tr>\n",
       "    <tr>\n",
       "      <th>3</th>\n",
       "      <td>155</td>\n",
       "      <td>60.0</td>\n",
       "      <td>1095</td>\n",
       "      <td>93</td>\n",
       "      <td>240.0</td>\n",
       "      <td>60.0</td>\n",
       "      <td>0</td>\n",
       "      <td>0</td>\n",
       "      <td>10</td>\n",
       "      <td>5</td>\n",
       "      <td>...</td>\n",
       "      <td>0</td>\n",
       "      <td>0</td>\n",
       "      <td>0</td>\n",
       "      <td>0</td>\n",
       "      <td>0</td>\n",
       "      <td>0</td>\n",
       "      <td>0</td>\n",
       "      <td>0</td>\n",
       "      <td>0</td>\n",
       "      <td>0</td>\n",
       "    </tr>\n",
       "    <tr>\n",
       "      <th>4</th>\n",
       "      <td>155</td>\n",
       "      <td>51.0</td>\n",
       "      <td>1095</td>\n",
       "      <td>0</td>\n",
       "      <td>0.0</td>\n",
       "      <td>0.0</td>\n",
       "      <td>0</td>\n",
       "      <td>0</td>\n",
       "      <td>0</td>\n",
       "      <td>0</td>\n",
       "      <td>...</td>\n",
       "      <td>0</td>\n",
       "      <td>0</td>\n",
       "      <td>0</td>\n",
       "      <td>0</td>\n",
       "      <td>0</td>\n",
       "      <td>0</td>\n",
       "      <td>0</td>\n",
       "      <td>0</td>\n",
       "      <td>0</td>\n",
       "      <td>0</td>\n",
       "    </tr>\n",
       "    <tr>\n",
       "      <th>5</th>\n",
       "      <td>72</td>\n",
       "      <td>54.0</td>\n",
       "      <td>1095</td>\n",
       "      <td>58</td>\n",
       "      <td>230.0</td>\n",
       "      <td>24.0</td>\n",
       "      <td>0</td>\n",
       "      <td>0</td>\n",
       "      <td>4</td>\n",
       "      <td>2</td>\n",
       "      <td>...</td>\n",
       "      <td>0</td>\n",
       "      <td>0</td>\n",
       "      <td>0</td>\n",
       "      <td>0</td>\n",
       "      <td>0</td>\n",
       "      <td>0</td>\n",
       "      <td>0</td>\n",
       "      <td>0</td>\n",
       "      <td>0</td>\n",
       "      <td>0</td>\n",
       "    </tr>\n",
       "  </tbody>\n",
       "</table>\n",
       "<p>5 rows × 27 columns</p>\n",
       "</div>"
      ],
      "text/plain": [
       "   Nationality   Age  DaysSinceCreation  AverageLeadTime  LodgingRevenue  \\\n",
       "0          136  51.0                150               45           371.0   \n",
       "2          105  31.0               1095                0             0.0   \n",
       "3          155  60.0               1095               93           240.0   \n",
       "4          155  51.0               1095                0             0.0   \n",
       "5           72  54.0               1095               58           230.0   \n",
       "\n",
       "   OtherRevenue  BookingsCanceled  BookingsNoShowed  PersonsNights  \\\n",
       "0         105.3                 1                 0              8   \n",
       "2           0.0                 0                 0              0   \n",
       "3          60.0                 0                 0             10   \n",
       "4           0.0                 0                 0              0   \n",
       "5          24.0                 0                 0              4   \n",
       "\n",
       "   RoomNights  ...  SRMediumFloor  SRBathtub  SRShower  SRCrib  SRKingSizeBed  \\\n",
       "0           5  ...              0          0         0       0              0   \n",
       "2           0  ...              0          0         0       0              0   \n",
       "3           5  ...              0          0         0       0              0   \n",
       "4           0  ...              0          0         0       0              0   \n",
       "5           2  ...              0          0         0       0              0   \n",
       "\n",
       "   SRTwinBed  SRNearElevator  SRAwayFromElevator  SRNoAlcoholInMiniBar  \\\n",
       "0          0               0                   0                     0   \n",
       "2          0               0                   0                     0   \n",
       "3          0               0                   0                     0   \n",
       "4          0               0                   0                     0   \n",
       "5          0               0                   0                     0   \n",
       "\n",
       "   SRQuietRoom  \n",
       "0            0  \n",
       "2            0  \n",
       "3            0  \n",
       "4            0  \n",
       "5            0  \n",
       "\n",
       "[5 rows x 27 columns]"
      ]
     },
     "execution_count": 37,
     "metadata": {},
     "output_type": "execute_result"
    }
   ],
   "source": [
    "X.head()"
   ]
  },
  {
   "cell_type": "markdown",
   "id": "db59c324",
   "metadata": {},
   "source": [
    "========================================================================================================================="
   ]
  },
  {
   "cell_type": "markdown",
   "id": "1f5bc6ed",
   "metadata": {},
   "source": [
    "## Working on Test data"
   ]
  },
  {
   "cell_type": "code",
   "execution_count": 38,
   "id": "8afde887",
   "metadata": {},
   "outputs": [],
   "source": [
    "test = pd.read_csv('test_data_evaluation_part2.csv')"
   ]
  },
  {
   "cell_type": "code",
   "execution_count": 39,
   "id": "1c2b7eae",
   "metadata": {},
   "outputs": [],
   "source": [
    "test = test.drop('Unnamed: 0',axis=1)\n",
    "test = test.drop('ID',axis=1)"
   ]
  },
  {
   "cell_type": "code",
   "execution_count": 40,
   "id": "406a36e3",
   "metadata": {},
   "outputs": [
    {
     "name": "stdout",
     "output_type": "stream",
     "text": [
      "<class 'pandas.core.frame.DataFrame'>\n",
      "RangeIndex: 1000 entries, 0 to 999\n",
      "Data columns (total 28 columns):\n",
      " #   Column                Non-Null Count  Dtype  \n",
      "---  ------                --------------  -----  \n",
      " 0   Nationality           1000 non-null   object \n",
      " 1   Age                   967 non-null    float64\n",
      " 2   DaysSinceCreation     1000 non-null   int64  \n",
      " 3   AverageLeadTime       1000 non-null   int64  \n",
      " 4   LodgingRevenue        1000 non-null   float64\n",
      " 5   OtherRevenue          1000 non-null   float64\n",
      " 6   BookingsCanceled      1000 non-null   int64  \n",
      " 7   BookingsNoShowed      1000 non-null   int64  \n",
      " 8   BookingsCheckedIn     1000 non-null   int64  \n",
      " 9   PersonsNights         1000 non-null   int64  \n",
      " 10  RoomNights            1000 non-null   int64  \n",
      " 11  DaysSinceLastStay     1000 non-null   int64  \n",
      " 12  DaysSinceFirstStay    1000 non-null   int64  \n",
      " 13  DistributionChannel   1000 non-null   object \n",
      " 14  MarketSegment         1000 non-null   object \n",
      " 15  SRHighFloor           1000 non-null   int64  \n",
      " 16  SRLowFloor            1000 non-null   int64  \n",
      " 17  SRAccessibleRoom      1000 non-null   int64  \n",
      " 18  SRMediumFloor         1000 non-null   int64  \n",
      " 19  SRBathtub             1000 non-null   int64  \n",
      " 20  SRShower              1000 non-null   int64  \n",
      " 21  SRCrib                1000 non-null   int64  \n",
      " 22  SRKingSizeBed         1000 non-null   int64  \n",
      " 23  SRTwinBed             1000 non-null   int64  \n",
      " 24  SRNearElevator        1000 non-null   int64  \n",
      " 25  SRAwayFromElevator    1000 non-null   int64  \n",
      " 26  SRNoAlcoholInMiniBar  1000 non-null   int64  \n",
      " 27  SRQuietRoom           1000 non-null   int64  \n",
      "dtypes: float64(3), int64(22), object(3)\n",
      "memory usage: 218.9+ KB\n"
     ]
    }
   ],
   "source": [
    "test.info()"
   ]
  },
  {
   "cell_type": "markdown",
   "id": "e1a2acfb",
   "metadata": {},
   "source": [
    "Age column has missing values"
   ]
  },
  {
   "cell_type": "code",
   "execution_count": 41,
   "id": "6cb672f7",
   "metadata": {},
   "outputs": [],
   "source": [
    "test = test.dropna()"
   ]
  },
  {
   "cell_type": "code",
   "execution_count": 42,
   "id": "bba33a04",
   "metadata": {},
   "outputs": [
    {
     "name": "stdout",
     "output_type": "stream",
     "text": [
      "<class 'pandas.core.frame.DataFrame'>\n",
      "Int64Index: 967 entries, 0 to 999\n",
      "Data columns (total 28 columns):\n",
      " #   Column                Non-Null Count  Dtype  \n",
      "---  ------                --------------  -----  \n",
      " 0   Nationality           967 non-null    object \n",
      " 1   Age                   967 non-null    float64\n",
      " 2   DaysSinceCreation     967 non-null    int64  \n",
      " 3   AverageLeadTime       967 non-null    int64  \n",
      " 4   LodgingRevenue        967 non-null    float64\n",
      " 5   OtherRevenue          967 non-null    float64\n",
      " 6   BookingsCanceled      967 non-null    int64  \n",
      " 7   BookingsNoShowed      967 non-null    int64  \n",
      " 8   BookingsCheckedIn     967 non-null    int64  \n",
      " 9   PersonsNights         967 non-null    int64  \n",
      " 10  RoomNights            967 non-null    int64  \n",
      " 11  DaysSinceLastStay     967 non-null    int64  \n",
      " 12  DaysSinceFirstStay    967 non-null    int64  \n",
      " 13  DistributionChannel   967 non-null    object \n",
      " 14  MarketSegment         967 non-null    object \n",
      " 15  SRHighFloor           967 non-null    int64  \n",
      " 16  SRLowFloor            967 non-null    int64  \n",
      " 17  SRAccessibleRoom      967 non-null    int64  \n",
      " 18  SRMediumFloor         967 non-null    int64  \n",
      " 19  SRBathtub             967 non-null    int64  \n",
      " 20  SRShower              967 non-null    int64  \n",
      " 21  SRCrib                967 non-null    int64  \n",
      " 22  SRKingSizeBed         967 non-null    int64  \n",
      " 23  SRTwinBed             967 non-null    int64  \n",
      " 24  SRNearElevator        967 non-null    int64  \n",
      " 25  SRAwayFromElevator    967 non-null    int64  \n",
      " 26  SRNoAlcoholInMiniBar  967 non-null    int64  \n",
      " 27  SRQuietRoom           967 non-null    int64  \n",
      "dtypes: float64(3), int64(22), object(3)\n",
      "memory usage: 219.1+ KB\n"
     ]
    }
   ],
   "source": [
    "test.info()"
   ]
  },
  {
   "cell_type": "markdown",
   "id": "3c9472b3",
   "metadata": {},
   "source": [
    "### Setting up label"
   ]
  },
  {
   "cell_type": "code",
   "execution_count": 43,
   "id": "4801b76c",
   "metadata": {},
   "outputs": [
    {
     "data": {
      "text/plain": [
       "array([0, 1, 2], dtype=int64)"
      ]
     },
     "execution_count": 43,
     "metadata": {},
     "output_type": "execute_result"
    }
   ],
   "source": [
    "test['BookingsCheckedIn'].unique()"
   ]
  },
  {
   "cell_type": "code",
   "execution_count": 44,
   "id": "8e93be08",
   "metadata": {},
   "outputs": [],
   "source": [
    "test['BookingsCheckedIn'] = test['BookingsCheckedIn'].replace(2,1)"
   ]
  },
  {
   "cell_type": "code",
   "execution_count": 45,
   "id": "51c21a26",
   "metadata": {},
   "outputs": [
    {
     "data": {
      "text/plain": [
       "array([0, 1], dtype=int64)"
      ]
     },
     "execution_count": 45,
     "metadata": {},
     "output_type": "execute_result"
    }
   ],
   "source": [
    "test['BookingsCheckedIn'].unique()"
   ]
  },
  {
   "cell_type": "markdown",
   "id": "a882b638",
   "metadata": {},
   "source": [
    "### Data Preprocessing"
   ]
  },
  {
   "cell_type": "code",
   "execution_count": 46,
   "id": "7aaa7523",
   "metadata": {},
   "outputs": [
    {
     "name": "stderr",
     "output_type": "stream",
     "text": [
      "100%|████████████████████████████████████████████████████████████████████████████| 967/967 [00:00<00:00, 484980.51it/s]\n"
     ]
    }
   ],
   "source": [
    "from tqdm import tqdm\n",
    "preprocessed_DistributionChannel = []\n",
    "# tqdm is for printing the status bar\n",
    "for sentance in tqdm(test['DistributionChannel'].values):\n",
    "    sentance = sentance.replace('/', '_')\n",
    "    sentance = sentance.replace(' ', '_')\n",
    "    preprocessed_DistributionChannel.append(sentance.lower().strip())"
   ]
  },
  {
   "cell_type": "code",
   "execution_count": 47,
   "id": "c50370df",
   "metadata": {},
   "outputs": [
    {
     "data": {
      "text/plain": [
       "{'corporate', 'direct', 'electronic_distribution', 'travel_agent_operator'}"
      ]
     },
     "execution_count": 47,
     "metadata": {},
     "output_type": "execute_result"
    }
   ],
   "source": [
    "set(preprocessed_DistributionChannel)"
   ]
  },
  {
   "cell_type": "code",
   "execution_count": 48,
   "id": "1549f79c",
   "metadata": {},
   "outputs": [],
   "source": [
    "test['DistributionChannel']=preprocessed_DistributionChannel"
   ]
  },
  {
   "cell_type": "code",
   "execution_count": 49,
   "id": "350f51d8",
   "metadata": {},
   "outputs": [
    {
     "data": {
      "text/plain": [
       "0    travel_agent_operator\n",
       "1    travel_agent_operator\n",
       "2    travel_agent_operator\n",
       "3    travel_agent_operator\n",
       "5                corporate\n",
       "Name: DistributionChannel, dtype: object"
      ]
     },
     "execution_count": 49,
     "metadata": {},
     "output_type": "execute_result"
    }
   ],
   "source": [
    "test['DistributionChannel'].head()"
   ]
  },
  {
   "cell_type": "code",
   "execution_count": 50,
   "id": "adf5e684",
   "metadata": {},
   "outputs": [],
   "source": [
    "test['DistributionChannel']=test['DistributionChannel'].replace({'corporate':0, 'direct':1, 'electronic_distribution':2, \n",
    "                                                                 'travel_agent_operator':3})"
   ]
  },
  {
   "cell_type": "code",
   "execution_count": 51,
   "id": "beee58e9",
   "metadata": {},
   "outputs": [
    {
     "data": {
      "text/plain": [
       "0    3\n",
       "1    3\n",
       "2    3\n",
       "3    3\n",
       "5    0\n",
       "Name: DistributionChannel, dtype: int64"
      ]
     },
     "execution_count": 51,
     "metadata": {},
     "output_type": "execute_result"
    }
   ],
   "source": [
    "test['DistributionChannel'].head()"
   ]
  },
  {
   "cell_type": "code",
   "execution_count": 52,
   "id": "1995e912",
   "metadata": {},
   "outputs": [
    {
     "name": "stderr",
     "output_type": "stream",
     "text": [
      "100%|████████████████████████████████████████████████████████████████████████████| 967/967 [00:00<00:00, 980394.48it/s]\n"
     ]
    }
   ],
   "source": [
    "from tqdm import tqdm\n",
    "preprocessed_MarketSegment = []\n",
    "# tqdm is for printing the status bar\n",
    "for sentance in tqdm(test['MarketSegment'].values):\n",
    "    sentance = sentance.replace('/', '_')\n",
    "    sentance = sentance.replace(' ', '_')\n",
    "    preprocessed_MarketSegment.append(sentance.lower().strip())"
   ]
  },
  {
   "cell_type": "code",
   "execution_count": 53,
   "id": "a95da01a",
   "metadata": {},
   "outputs": [
    {
     "data": {
      "text/plain": [
       "{'aviation',\n",
       " 'complementary',\n",
       " 'corporate',\n",
       " 'direct',\n",
       " 'other',\n",
       " 'travel_agent_operator'}"
      ]
     },
     "execution_count": 53,
     "metadata": {},
     "output_type": "execute_result"
    }
   ],
   "source": [
    "set(preprocessed_MarketSegment)"
   ]
  },
  {
   "cell_type": "code",
   "execution_count": 54,
   "id": "9b9ee612",
   "metadata": {},
   "outputs": [],
   "source": [
    "test['MarketSegment']=preprocessed_MarketSegment"
   ]
  },
  {
   "cell_type": "code",
   "execution_count": 55,
   "id": "315a89ba",
   "metadata": {},
   "outputs": [],
   "source": [
    "test['MarketSegment']=test['MarketSegment'].replace({'aviation':0, 'complementary':1, 'corporate':2, \n",
    "                                                    'direct':3, 'groups':4, 'other':5, 'travel_agent_operator':6})"
   ]
  },
  {
   "cell_type": "code",
   "execution_count": 56,
   "id": "3b30bf22",
   "metadata": {},
   "outputs": [],
   "source": [
    "nationality_dict= dict.fromkeys(set(test['Nationality']),0)"
   ]
  },
  {
   "cell_type": "code",
   "execution_count": 57,
   "id": "efe6f6d2",
   "metadata": {},
   "outputs": [],
   "source": [
    "nationality_dict=dict()\n",
    "label=0\n",
    "for i in  set(test['Nationality']):\n",
    "    nationality_dict[i]=label\n",
    "    label+=1"
   ]
  },
  {
   "cell_type": "code",
   "execution_count": 58,
   "id": "5f576965",
   "metadata": {},
   "outputs": [],
   "source": [
    "test['Nationality'] = test['Nationality'].replace(nationality_dict)"
   ]
  },
  {
   "cell_type": "markdown",
   "id": "57ca6be9",
   "metadata": {},
   "source": [
    "### Setting up test data"
   ]
  },
  {
   "cell_type": "code",
   "execution_count": 59,
   "id": "7d97eb19",
   "metadata": {},
   "outputs": [
    {
     "name": "stdout",
     "output_type": "stream",
     "text": [
      "(967, 27)\n",
      "(967,)\n"
     ]
    }
   ],
   "source": [
    "Y_test = test['BookingsCheckedIn'].values\n",
    "test.drop(['BookingsCheckedIn'], axis=1, inplace=True)\n",
    "X_test = test\n",
    "\n",
    "print(X_test.shape)\n",
    "print(Y_test.shape)"
   ]
  },
  {
   "cell_type": "code",
   "execution_count": 60,
   "id": "ef32c5da",
   "metadata": {},
   "outputs": [],
   "source": [
    "log_pred = log_model.predict(X_test)"
   ]
  },
  {
   "cell_type": "code",
   "execution_count": 61,
   "id": "7b34da69",
   "metadata": {},
   "outputs": [
    {
     "data": {
      "text/plain": [
       "array([[495,   0],\n",
       "       [  7, 465]], dtype=int64)"
      ]
     },
     "execution_count": 61,
     "metadata": {},
     "output_type": "execute_result"
    }
   ],
   "source": [
    "from sklearn.metrics import confusion_matrix\n",
    "\n",
    "confusion_matrix(Y_test,log_pred)"
   ]
  },
  {
   "cell_type": "code",
   "execution_count": 62,
   "id": "7bea65eb",
   "metadata": {},
   "outputs": [
    {
     "name": "stdout",
     "output_type": "stream",
     "text": [
      "Accuracy on test set: 99.276%\n",
      "Precision on test set: 1.000\n",
      "Recall on test set: 0.985\n",
      "F1-Score on test set: 0.993\n"
     ]
    }
   ],
   "source": [
    "from sklearn.metrics import accuracy_score\n",
    "from sklearn.metrics import precision_score\n",
    "from sklearn.metrics import f1_score\n",
    "from sklearn.metrics import recall_score\n",
    "\n",
    "print(\"Accuracy on test set: %0.3f%%\"%(accuracy_score(Y_test, log_pred)*100))\n",
    "print(\"Precision on test set: %0.3f\"%(precision_score(Y_test, log_pred)))\n",
    "print(\"Recall on test set: %0.3f\"%(recall_score(Y_test, log_pred)))\n",
    "print(\"F1-Score on test set: %0.3f\"%(f1_score(Y_test, log_pred)))"
   ]
  },
  {
   "cell_type": "code",
   "execution_count": 63,
   "id": "dd8885a0",
   "metadata": {},
   "outputs": [],
   "source": [
    "xgb_pred = xgb_model.predict(X_test)"
   ]
  },
  {
   "cell_type": "code",
   "execution_count": 64,
   "id": "cb6d29f5",
   "metadata": {},
   "outputs": [
    {
     "data": {
      "text/plain": [
       "array([[495,   0],\n",
       "       [  0, 472]], dtype=int64)"
      ]
     },
     "execution_count": 64,
     "metadata": {},
     "output_type": "execute_result"
    }
   ],
   "source": [
    "confusion_matrix(Y_test,xgb_pred)"
   ]
  },
  {
   "cell_type": "code",
   "execution_count": 65,
   "id": "dfbf19bd",
   "metadata": {},
   "outputs": [
    {
     "name": "stdout",
     "output_type": "stream",
     "text": [
      "Accuracy on test set: 100.000%\n",
      "Precision on test set: 1.000\n",
      "Recall on test set: 1.000\n",
      "F1-Score on test set: 1.000\n"
     ]
    }
   ],
   "source": [
    "print(\"Accuracy on test set: %0.3f%%\"%(accuracy_score(Y_test, xgb_pred)*100))\n",
    "print(\"Precision on test set: %0.3f\"%(precision_score(Y_test, xgb_pred)))\n",
    "print(\"Recall on test set: %0.3f\"%(recall_score(Y_test, xgb_pred)))\n",
    "print(\"F1-Score on test set: %0.3f\"%(f1_score(Y_test, xgb_pred)))"
   ]
  },
  {
   "cell_type": "code",
   "execution_count": null,
   "id": "a12f3d27",
   "metadata": {},
   "outputs": [],
   "source": []
  },
  {
   "cell_type": "markdown",
   "id": "3d967eb6",
   "metadata": {},
   "source": [
    "### Using only these 3 features to build the model for our API"
   ]
  },
  {
   "cell_type": "code",
   "execution_count": 66,
   "id": "071e30fc",
   "metadata": {},
   "outputs": [],
   "source": [
    "d = pd.read_csv('train_data_evaluation_part_2.csv')"
   ]
  },
  {
   "cell_type": "code",
   "execution_count": 67,
   "id": "708655b0",
   "metadata": {},
   "outputs": [],
   "source": [
    "final_data = d[['LodgingRevenue', 'RoomNights', 'DaysSinceFirstStay','BookingsCheckedIn']]"
   ]
  },
  {
   "cell_type": "code",
   "execution_count": 68,
   "id": "3872424c",
   "metadata": {},
   "outputs": [
    {
     "data": {
      "text/html": [
       "<div>\n",
       "<style scoped>\n",
       "    .dataframe tbody tr th:only-of-type {\n",
       "        vertical-align: middle;\n",
       "    }\n",
       "\n",
       "    .dataframe tbody tr th {\n",
       "        vertical-align: top;\n",
       "    }\n",
       "\n",
       "    .dataframe thead th {\n",
       "        text-align: right;\n",
       "    }\n",
       "</style>\n",
       "<table border=\"1\" class=\"dataframe\">\n",
       "  <thead>\n",
       "    <tr style=\"text-align: right;\">\n",
       "      <th></th>\n",
       "      <th>LodgingRevenue</th>\n",
       "      <th>RoomNights</th>\n",
       "      <th>DaysSinceFirstStay</th>\n",
       "      <th>BookingsCheckedIn</th>\n",
       "    </tr>\n",
       "  </thead>\n",
       "  <tbody>\n",
       "    <tr>\n",
       "      <th>0</th>\n",
       "      <td>371.0</td>\n",
       "      <td>5</td>\n",
       "      <td>1074</td>\n",
       "      <td>3</td>\n",
       "    </tr>\n",
       "    <tr>\n",
       "      <th>1</th>\n",
       "      <td>280.0</td>\n",
       "      <td>5</td>\n",
       "      <td>1100</td>\n",
       "      <td>1</td>\n",
       "    </tr>\n",
       "    <tr>\n",
       "      <th>2</th>\n",
       "      <td>0.0</td>\n",
       "      <td>0</td>\n",
       "      <td>-1</td>\n",
       "      <td>0</td>\n",
       "    </tr>\n",
       "    <tr>\n",
       "      <th>3</th>\n",
       "      <td>240.0</td>\n",
       "      <td>5</td>\n",
       "      <td>1100</td>\n",
       "      <td>1</td>\n",
       "    </tr>\n",
       "    <tr>\n",
       "      <th>4</th>\n",
       "      <td>0.0</td>\n",
       "      <td>0</td>\n",
       "      <td>-1</td>\n",
       "      <td>0</td>\n",
       "    </tr>\n",
       "  </tbody>\n",
       "</table>\n",
       "</div>"
      ],
      "text/plain": [
       "   LodgingRevenue  RoomNights  DaysSinceFirstStay  BookingsCheckedIn\n",
       "0           371.0           5                1074                  3\n",
       "1           280.0           5                1100                  1\n",
       "2             0.0           0                  -1                  0\n",
       "3           240.0           5                1100                  1\n",
       "4             0.0           0                  -1                  0"
      ]
     },
     "execution_count": 68,
     "metadata": {},
     "output_type": "execute_result"
    }
   ],
   "source": [
    "final_data.head()"
   ]
  },
  {
   "cell_type": "code",
   "execution_count": 69,
   "id": "59dd2956",
   "metadata": {},
   "outputs": [
    {
     "data": {
      "text/plain": [
       "array([ 3,  1,  0,  9,  2, 11, 12,  7,  8,  5,  6,  4, 66, 15, 29, 25, 10,\n",
       "       17, 13, 26, 23, 57, 40, 18, 14, 24, 19, 20, 34], dtype=int64)"
      ]
     },
     "execution_count": 69,
     "metadata": {},
     "output_type": "execute_result"
    }
   ],
   "source": [
    "final_data['BookingsCheckedIn'].unique()"
   ]
  },
  {
   "cell_type": "code",
   "execution_count": 70,
   "id": "74e77654",
   "metadata": {},
   "outputs": [],
   "source": [
    "final_data['BookingsCheckedIn'] = final_data['BookingsCheckedIn'].replace([3,9,11,2,7,8,5,6,4,66,15,29,25,10,17,13,26,23,12,57,40,18,19,14,24,20,34],1)"
   ]
  },
  {
   "cell_type": "code",
   "execution_count": 71,
   "id": "60eb24ea",
   "metadata": {},
   "outputs": [
    {
     "data": {
      "text/plain": [
       "array([1, 0], dtype=int64)"
      ]
     },
     "execution_count": 71,
     "metadata": {},
     "output_type": "execute_result"
    }
   ],
   "source": [
    "final_data['BookingsCheckedIn'].unique()"
   ]
  },
  {
   "cell_type": "code",
   "execution_count": 72,
   "id": "8b89e5ae",
   "metadata": {},
   "outputs": [
    {
     "name": "stdout",
     "output_type": "stream",
     "text": [
      "(82580, 3)\n",
      "(82580,)\n"
     ]
    }
   ],
   "source": [
    "Y = final_data['BookingsCheckedIn'].values\n",
    "final_data.drop(['BookingsCheckedIn'], axis=1, inplace=True)\n",
    "X = final_data\n",
    "\n",
    "print(X.shape)\n",
    "print(Y.shape)"
   ]
  },
  {
   "cell_type": "code",
   "execution_count": 76,
   "id": "0c958e1e",
   "metadata": {},
   "outputs": [
    {
     "data": {
      "text/plain": [
       "LogisticRegression()"
      ]
     },
     "execution_count": 76,
     "metadata": {},
     "output_type": "execute_result"
    }
   ],
   "source": [
    "log_model = LogisticRegression()\n",
    "log_model.fit(X,Y)"
   ]
  },
  {
   "cell_type": "code",
   "execution_count": 77,
   "id": "9821f0a7",
   "metadata": {},
   "outputs": [],
   "source": [
    "import pickle\n",
    "\n",
    "pickle.dump(log_model, open('log_model.pkl', 'wb'))"
   ]
  },
  {
   "cell_type": "code",
   "execution_count": 73,
   "id": "192cc40b",
   "metadata": {},
   "outputs": [
    {
     "name": "stdout",
     "output_type": "stream",
     "text": [
      "[16:50:20] WARNING: ..\\src\\learner.cc:1061: Starting in XGBoost 1.3.0, the default evaluation metric used with the objective 'binary:logistic' was changed from 'error' to 'logloss'. Explicitly set eval_metric if you'd like to restore the old behavior.\n"
     ]
    },
    {
     "data": {
      "text/plain": [
       "XGBClassifier(base_score=0.5, booster='gbtree', colsample_bylevel=1,\n",
       "              colsample_bynode=1, colsample_bytree=1, gamma=0, gpu_id=-1,\n",
       "              importance_type='gain', interaction_constraints='',\n",
       "              learning_rate=0.300000012, max_delta_step=0, max_depth=6,\n",
       "              min_child_weight=1, missing=nan, monotone_constraints='()',\n",
       "              n_estimators=100, n_jobs=12, num_parallel_tree=1, random_state=0,\n",
       "              reg_alpha=0, reg_lambda=1, scale_pos_weight=1, subsample=1,\n",
       "              tree_method='exact', validate_parameters=1, verbosity=None)"
      ]
     },
     "execution_count": 73,
     "metadata": {},
     "output_type": "execute_result"
    }
   ],
   "source": [
    "xgb_model = xgb.XGBClassifier()\n",
    "xgb_model.fit(X, Y)"
   ]
  },
  {
   "cell_type": "code",
   "execution_count": 75,
   "id": "e2dd59c9",
   "metadata": {},
   "outputs": [],
   "source": [
    "import pickle\n",
    "\n",
    "pickle.dump(xgb_model, open('xgb_model.pkl', 'wb'))"
   ]
  },
  {
   "cell_type": "code",
   "execution_count": null,
   "id": "e292a212",
   "metadata": {},
   "outputs": [],
   "source": []
  }
 ],
 "metadata": {
  "kernelspec": {
   "display_name": "Python 3",
   "language": "python",
   "name": "python3"
  },
  "language_info": {
   "codemirror_mode": {
    "name": "ipython",
    "version": 3
   },
   "file_extension": ".py",
   "mimetype": "text/x-python",
   "name": "python",
   "nbconvert_exporter": "python",
   "pygments_lexer": "ipython3",
   "version": "3.6.13"
  }
 },
 "nbformat": 4,
 "nbformat_minor": 5
}
